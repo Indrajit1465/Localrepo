{
 "cells": [
  {
   "cell_type": "markdown",
   "id": "9eeb396d-7fea-465b-874b-32ab5f267334",
   "metadata": {},
   "source": [
    "### Importing Libraries"
   ]
  },
  {
   "cell_type": "code",
   "execution_count": 25,
   "id": "4bfd81cd-8be4-41d4-8290-7ef690b8489e",
   "metadata": {},
   "outputs": [],
   "source": [
    "import tensorflow as tf\n",
    "import matplotlib.pyplot as plt\n",
    "import pandas as pd\n",
    "import seaborn as sns"
   ]
  },
  {
   "cell_type": "markdown",
   "id": "936448e0-d290-423f-b945-d888ed4c8215",
   "metadata": {},
   "source": [
    "# **Data Preprocessing**\n",
    "\n",
    "Training Image Preprocessing"
   ]
  },
  {
   "cell_type": "code",
   "execution_count": 26,
   "id": "c7dd6220-27dd-4c7e-b75a-4ff70eacf482",
   "metadata": {},
   "outputs": [
    {
     "name": "stdout",
     "output_type": "stream",
     "text": [
      "Found 70295 files belonging to 38 classes.\n"
     ]
    }
   ],
   "source": [
    "training_set = tf.keras.utils.image_dataset_from_directory(\n",
    "    'train', #the name of the foldr which you want to train\n",
    "    labels=\"inferred\",\n",
    "    label_mode=\"categorical\",\n",
    "    class_names=None,\n",
    "    color_mode=\"rgb\",\n",
    "    batch_size=32,\n",
    "    image_size=(128, 128),\n",
    "    shuffle=True,\n",
    "    seed=None,\n",
    "    validation_split=None,\n",
    "    subset=None,\n",
    "    interpolation=\"bilinear\",\n",
    "    follow_links=False,\n",
    "    crop_to_aspect_ratio=False,\n",
    ")"
   ]
  },
  {
   "cell_type": "markdown",
   "id": "40edc94a-594e-4e6b-ae89-49e7100e6efd",
   "metadata": {},
   "source": [
    "### **Validation Image Preprocessing**"
   ]
  },
  {
   "cell_type": "code",
   "execution_count": 27,
   "id": "0af51e7d-6be2-4c38-b2aa-9ef9f3072ed0",
   "metadata": {},
   "outputs": [
    {
     "name": "stdout",
     "output_type": "stream",
     "text": [
      "Found 17572 files belonging to 38 classes.\n"
     ]
    }
   ],
   "source": [
    "validation_set = tf.keras.utils.image_dataset_from_directory(\n",
    "    'valid',\n",
    "    labels=\"inferred\",\n",
    "    label_mode=\"categorical\",\n",
    "    class_names=None,\n",
    "    color_mode=\"rgb\",\n",
    "    batch_size=32,\n",
    "    image_size=(128, 128),\n",
    "    shuffle=True,\n",
    "    seed=None,\n",
    "    validation_split=None,\n",
    "    subset=None,\n",
    "    interpolation=\"bilinear\",\n",
    "    follow_links=False,\n",
    "    crop_to_aspect_ratio=False,\n",
    ")"
   ]
  },
  {
   "cell_type": "code",
   "execution_count": 28,
   "id": "27772063-8649-4f1b-8e7a-655b1c545174",
   "metadata": {},
   "outputs": [
    {
     "data": {
      "text/plain": [
       "<_PrefetchDataset element_spec=(TensorSpec(shape=(None, 128, 128, 3), dtype=tf.float32, name=None), TensorSpec(shape=(None, 38), dtype=tf.float32, name=None))>"
      ]
     },
     "execution_count": 28,
     "metadata": {},
     "output_type": "execute_result"
    }
   ],
   "source": [
    "training_set"
   ]
  },
  {
   "cell_type": "code",
   "execution_count": 29,
   "id": "f4f20f8f-a25a-42bd-ba6d-04e6c828fe29",
   "metadata": {},
   "outputs": [
    {
     "name": "stdout",
     "output_type": "stream",
     "text": [
      "tf.Tensor(\n",
      "[[[[152.75 138.75 135.75]\n",
      "   [158.75 144.75 141.75]\n",
      "   [156.   142.   139.  ]\n",
      "   ...\n",
      "   [185.25 181.25 182.25]\n",
      "   [182.   178.   179.  ]\n",
      "   [188.5  184.5  185.5 ]]\n",
      "\n",
      "  [[157.75 143.75 140.75]\n",
      "   [150.   136.   133.  ]\n",
      "   [155.75 141.75 138.75]\n",
      "   ...\n",
      "   [190.25 186.25 187.25]\n",
      "   [186.75 182.75 183.75]\n",
      "   [184.5  180.5  181.5 ]]\n",
      "\n",
      "  [[157.25 143.25 140.25]\n",
      "   [155.5  141.5  138.5 ]\n",
      "   [151.5  137.5  134.5 ]\n",
      "   ...\n",
      "   [189.25 185.25 186.25]\n",
      "   [185.5  181.5  182.5 ]\n",
      "   [187.5  183.5  184.5 ]]\n",
      "\n",
      "  ...\n",
      "\n",
      "  [[136.5  115.5  112.5 ]\n",
      "   [132.5  111.5  108.5 ]\n",
      "   [137.5  116.5  113.5 ]\n",
      "   ...\n",
      "   [172.75 164.75 162.75]\n",
      "   [175.25 167.25 165.25]\n",
      "   [182.   174.   172.  ]]\n",
      "\n",
      "  [[135.   114.   111.  ]\n",
      "   [135.5  114.5  111.5 ]\n",
      "   [132.5  111.5  108.5 ]\n",
      "   ...\n",
      "   [174.   166.   164.  ]\n",
      "   [173.   165.   163.  ]\n",
      "   [175.5  167.5  165.5 ]]\n",
      "\n",
      "  [[133.25 112.25 109.25]\n",
      "   [138.5  117.5  114.5 ]\n",
      "   [123.5  102.5   99.5 ]\n",
      "   ...\n",
      "   [179.5  171.5  169.5 ]\n",
      "   [179.5  171.5  169.5 ]\n",
      "   [178.25 170.25 168.25]]]\n",
      "\n",
      "\n",
      " [[[120.25 160.25 100.25]\n",
      "   [120.25 160.25 100.25]\n",
      "   [122.   161.   104.  ]\n",
      "   ...\n",
      "   [102.25 136.25  76.25]\n",
      "   [100.   133.    76.  ]\n",
      "   [106.5  137.5   80.5 ]]\n",
      "\n",
      "  [[119.   159.    99.  ]\n",
      "   [121.5  160.5  103.5 ]\n",
      "   [116.5  155.5   98.5 ]\n",
      "   ...\n",
      "   [100.   134.    74.  ]\n",
      "   [ 99.25 133.25  73.25]\n",
      "   [107.   138.    81.  ]]\n",
      "\n",
      "  [[109.75 148.75  91.75]\n",
      "   [113.75 152.75  95.75]\n",
      "   [120.75 159.75 102.75]\n",
      "   ...\n",
      "   [101.75 135.75  74.75]\n",
      "   [ 99.75 133.75  73.75]\n",
      "   [101.75 132.75  73.75]]\n",
      "\n",
      "  ...\n",
      "\n",
      "  [[ 20.25  58.25   9.25]\n",
      "   [ 21.    59.    10.  ]\n",
      "   [ 20.75  58.75   9.75]\n",
      "   ...\n",
      "   [138.75 178.75 108.75]\n",
      "   [141.75 181.75 111.75]\n",
      "   [145.25 185.25 115.25]]\n",
      "\n",
      "  [[ 21.5   59.5   10.5 ]\n",
      "   [ 22.    60.    11.  ]\n",
      "   [ 20.5   58.5    9.5 ]\n",
      "   ...\n",
      "   [136.25 176.25 105.25]\n",
      "   [138.   178.   107.  ]\n",
      "   [141.5  181.5  110.5 ]]\n",
      "\n",
      "  [[ 22.    60.    11.  ]\n",
      "   [ 22.    60.    11.  ]\n",
      "   [ 20.25  58.25   9.25]\n",
      "   ...\n",
      "   [136.   176.   105.  ]\n",
      "   [136.75 176.75 105.75]\n",
      "   [137.5  177.5  106.5 ]]]\n",
      "\n",
      "\n",
      " [[[145.5  131.5  128.5 ]\n",
      "   [138.   124.   121.  ]\n",
      "   [147.5  133.5  130.5 ]\n",
      "   ...\n",
      "   [145.   127.   125.  ]\n",
      "   [146.   128.   126.  ]\n",
      "   [147.25 129.25 127.25]]\n",
      "\n",
      "  [[148.75 134.75 131.75]\n",
      "   [148.5  134.5  131.5 ]\n",
      "   [154.   140.   137.  ]\n",
      "   ...\n",
      "   [150.75 132.75 130.75]\n",
      "   [149.75 131.75 129.75]\n",
      "   [141.   123.   121.  ]]\n",
      "\n",
      "  [[138.25 124.25 121.25]\n",
      "   [144.   130.   127.  ]\n",
      "   [143.75 129.75 126.75]\n",
      "   ...\n",
      "   [148.   130.   128.  ]\n",
      "   [148.75 130.75 128.75]\n",
      "   [145.5  127.5  125.5 ]]\n",
      "\n",
      "  ...\n",
      "\n",
      "  [[166.75 158.75 156.75]\n",
      "   [154.25 146.25 144.25]\n",
      "   [163.25 155.25 153.25]\n",
      "   ...\n",
      "   [141.75 132.75 137.75]\n",
      "   [141.75 132.75 137.75]\n",
      "   [136.75 127.75 132.75]]\n",
      "\n",
      "  [[162.5  154.5  152.5 ]\n",
      "   [159.75 151.75 149.75]\n",
      "   [163.75 155.75 153.75]\n",
      "   ...\n",
      "   [149.25 140.25 145.25]\n",
      "   [146.   137.   142.  ]\n",
      "   [150.5  141.5  146.5 ]]\n",
      "\n",
      "  [[160.25 152.25 150.25]\n",
      "   [165.   157.   155.  ]\n",
      "   [160.5  152.5  150.5 ]\n",
      "   ...\n",
      "   [158.5  149.5  154.5 ]\n",
      "   [151.25 142.25 147.25]\n",
      "   [153.75 144.75 149.75]]]\n",
      "\n",
      "\n",
      " ...\n",
      "\n",
      "\n",
      " [[[ 97.75  93.75  84.75]\n",
      "   [ 99.75  95.75  86.75]\n",
      "   [ 99.5   95.5   86.5 ]\n",
      "   ...\n",
      "   [115.25 109.25 111.75]\n",
      "   [124.75 121.25 116.25]\n",
      "   [124.75 122.75 109.  ]]\n",
      "\n",
      "  [[108.   104.    95.  ]\n",
      "   [104.5  100.5   91.5 ]\n",
      "   [100.5   96.5   87.5 ]\n",
      "   ...\n",
      "   [126.5  120.5  121.5 ]\n",
      "   [129.5  124.25 121.  ]\n",
      "   [127.   124.75 113.  ]]\n",
      "\n",
      "  [[104.5  100.5   91.5 ]\n",
      "   [105.   101.    92.  ]\n",
      "   [108.   104.    95.  ]\n",
      "   ...\n",
      "   [123.75 118.25 116.5 ]\n",
      "   [127.75 122.25 120.75]\n",
      "   [125.   120.5  112.5 ]]\n",
      "\n",
      "  ...\n",
      "\n",
      "  [[122.5  119.5  111.5 ]\n",
      "   [121.5  118.5  111.5 ]\n",
      "   [118.5  115.25 110.75]\n",
      "   ...\n",
      "   [147.   146.   142.  ]\n",
      "   [150.5  149.5  145.5 ]\n",
      "   [153.5  152.5  148.5 ]]\n",
      "\n",
      "  [[119.5  116.5  111.  ]\n",
      "   [120.   117.   110.5 ]\n",
      "   [119.75 116.75 109.25]\n",
      "   ...\n",
      "   [148.   147.   143.  ]\n",
      "   [152.25 151.25 147.25]\n",
      "   [156.25 155.25 151.25]]\n",
      "\n",
      "  [[121.5  117.75 114.25]\n",
      "   [121.25 118.25 112.25]\n",
      "   [120.25 115.75 108.25]\n",
      "   ...\n",
      "   [153.   152.   148.  ]\n",
      "   [156.25 155.25 151.25]\n",
      "   [155.75 154.75 150.75]]]\n",
      "\n",
      "\n",
      " [[[  0.     0.     0.  ]\n",
      "   [  0.     0.     0.  ]\n",
      "   [  0.     0.     0.  ]\n",
      "   ...\n",
      "   [  0.     0.     0.  ]\n",
      "   [  0.     0.     0.  ]\n",
      "   [  0.     0.     0.  ]]\n",
      "\n",
      "  [[  0.     0.     0.  ]\n",
      "   [  0.     0.     0.  ]\n",
      "   [  0.     0.     0.  ]\n",
      "   ...\n",
      "   [  0.     0.     0.  ]\n",
      "   [  0.     0.     0.  ]\n",
      "   [  0.     0.     0.  ]]\n",
      "\n",
      "  [[  0.     0.     0.  ]\n",
      "   [  0.     0.     0.  ]\n",
      "   [  0.     0.     0.  ]\n",
      "   ...\n",
      "   [  0.     0.     0.  ]\n",
      "   [  0.     0.     0.  ]\n",
      "   [  0.     0.     0.  ]]\n",
      "\n",
      "  ...\n",
      "\n",
      "  [[  0.     0.     0.  ]\n",
      "   [  0.     0.     0.  ]\n",
      "   [  0.     0.     0.  ]\n",
      "   ...\n",
      "   [  0.     0.     0.  ]\n",
      "   [  0.     0.     0.  ]\n",
      "   [  0.     0.     0.  ]]\n",
      "\n",
      "  [[  0.     0.     0.  ]\n",
      "   [  0.     0.     0.  ]\n",
      "   [  0.     0.     0.  ]\n",
      "   ...\n",
      "   [  0.     0.     0.  ]\n",
      "   [  0.     0.     0.  ]\n",
      "   [  0.     0.     0.  ]]\n",
      "\n",
      "  [[  0.     0.     0.  ]\n",
      "   [  0.     0.     0.  ]\n",
      "   [  0.     0.     0.  ]\n",
      "   ...\n",
      "   [  0.     0.     0.  ]\n",
      "   [  0.     0.     0.  ]\n",
      "   [  0.     0.     0.  ]]]\n",
      "\n",
      "\n",
      " [[[ 47.75  53.5   80.5 ]\n",
      "   [ 46.25  51.25  78.25]\n",
      "   [ 48.5   53.25  80.25]\n",
      "   ...\n",
      "   [ 36.    39.5   67.5 ]\n",
      "   [ 43.75  47.25  75.25]\n",
      "   [ 45.    49.25  77.5 ]]\n",
      "\n",
      "  [[ 93.5  101.   141.  ]\n",
      "   [ 87.    94.5  134.5 ]\n",
      "   [ 95.5  103.   143.  ]\n",
      "   ...\n",
      "   [ 70.5   78.5  116.75]\n",
      "   [ 90.75  98.75 137.  ]\n",
      "   [ 91.5   99.5  137.75]]\n",
      "\n",
      "  [[ 93.    98.5  151.25]\n",
      "   [ 85.5   91.   143.75]\n",
      "   [ 93.25  98.75 151.5 ]\n",
      "   ...\n",
      "   [ 77.5   87.75 135.  ]\n",
      "   [ 69.75  80.   127.25]\n",
      "   [ 75.75  86.   133.25]]\n",
      "\n",
      "  ...\n",
      "\n",
      "  [[100.25 110.25 161.25]\n",
      "   [ 88.75  98.75 149.75]\n",
      "   [104.25 114.25 165.25]\n",
      "   ...\n",
      "   [111.25 125.25 174.25]\n",
      "   [102.75 116.75 165.75]\n",
      "   [119.   133.   182.  ]]\n",
      "\n",
      "  [[ 98.5  108.5  159.5 ]\n",
      "   [ 98.75 108.75 159.75]\n",
      "   [ 90.   100.   151.  ]\n",
      "   ...\n",
      "   [119.   133.   182.  ]\n",
      "   [100.25 114.25 163.25]\n",
      "   [107.   121.   170.  ]]\n",
      "\n",
      "  [[101.5  111.5  162.5 ]\n",
      "   [ 99.75 109.75 160.75]\n",
      "   [ 98.75 108.75 159.75]\n",
      "   ...\n",
      "   [128.75 142.75 191.75]\n",
      "   [104.25 118.25 167.25]\n",
      "   [ 94.   108.   157.  ]]]], shape=(32, 128, 128, 3), dtype=float32) (32, 128, 128, 3)\n",
      "tf.Tensor(\n",
      "[[0. 0. 0. ... 0. 0. 0.]\n",
      " [0. 0. 0. ... 0. 0. 0.]\n",
      " [0. 0. 0. ... 0. 0. 0.]\n",
      " ...\n",
      " [0. 0. 0. ... 0. 0. 0.]\n",
      " [0. 0. 0. ... 0. 0. 0.]\n",
      " [1. 0. 0. ... 0. 0. 0.]], shape=(32, 38), dtype=float32) (32, 38)\n"
     ]
    }
   ],
   "source": [
    "for x,y in training_set:\n",
    "  print(x,x.shape)\n",
    "  print(y,y.shape)\n",
    "  break"
   ]
  },
  {
   "cell_type": "markdown",
   "id": "bd4a81a8-02c4-4a31-ae6a-2b1ccb6b3286",
   "metadata": {},
   "source": [
    "### To Avoid Overshooting\n",
    "1. Choose small learning rate default 0.001 we are taking 0.0001\n",
    "2. there may be chance of Underfitting, so increase number of neuron\n",
    "3. Add more convolution layer to extract more feature from images there may be possibility that model unable to capture relevent feature or model is confusing due to lack of feature so feed with more feature\n"
   ]
  },
  {
   "cell_type": "markdown",
   "id": "f63ff283-2bd3-4153-9c7c-4253542e3c93",
   "metadata": {},
   "source": [
    "# **Building Model**\n",
    "\n",
    "*   List item\n",
    "*   List item\n"
   ]
  },
  {
   "cell_type": "code",
   "execution_count": 30,
   "id": "4ca15943-7708-465a-b152-9b265aa93830",
   "metadata": {},
   "outputs": [],
   "source": [
    "from tensorflow.keras.layers import Dense,Conv2D,MaxPool2D,Flatten,Dropout\n",
    "from tensorflow.keras.models import Sequential"
   ]
  },
  {
   "cell_type": "code",
   "execution_count": 31,
   "id": "dd37f503-3df5-4f14-a714-6d7587337eda",
   "metadata": {},
   "outputs": [],
   "source": [
    "model = Sequential()"
   ]
  },
  {
   "cell_type": "markdown",
   "id": "48e4f324-7196-4e63-8ce6-8294acce7b8f",
   "metadata": {},
   "source": [
    "## Building Convolution Layer"
   ]
  },
  {
   "cell_type": "code",
   "execution_count": 32,
   "id": "b8bc3423-e53c-429d-b3be-3e2e4a47e1af",
   "metadata": {},
   "outputs": [],
   "source": [
    "model.add(Conv2D(filters=32,kernel_size=3,padding='same',activation='relu',input_shape=[128,128,3]))\n",
    "model.add(Conv2D(filters=32,kernel_size=3,activation='relu'))\n",
    "model.add(MaxPool2D(pool_size=2,strides=2))"
   ]
  },
  {
   "cell_type": "code",
   "execution_count": 33,
   "id": "17aa41ee-f648-4509-b5ce-4a0bdeb37531",
   "metadata": {},
   "outputs": [],
   "source": [
    "model.add(Conv2D(filters=64,kernel_size=3,padding='same',activation='relu'))\n",
    "model.add(Conv2D(filters=64,kernel_size=3,activation='relu'))\n",
    "model.add(MaxPool2D(pool_size=2,strides=2))"
   ]
  },
  {
   "cell_type": "code",
   "execution_count": 34,
   "id": "3c44c8c3-279b-4205-92a6-2d6193effddd",
   "metadata": {},
   "outputs": [],
   "source": [
    "model.add(Conv2D(filters=128,kernel_size=3,padding='same',activation='relu'))\n",
    "model.add(Conv2D(filters=128,kernel_size=3,activation='relu'))\n",
    "model.add(MaxPool2D(pool_size=2,strides=2))"
   ]
  },
  {
   "cell_type": "code",
   "execution_count": 35,
   "id": "1e51b000-cb01-4e80-8627-e9806344058d",
   "metadata": {},
   "outputs": [],
   "source": [
    "model.add(Conv2D(filters=256,kernel_size=3,padding='same',activation='relu'))\n",
    "model.add(Conv2D(filters=256,kernel_size=3,activation='relu'))\n",
    "model.add(MaxPool2D(pool_size=2,strides=2))"
   ]
  },
  {
   "cell_type": "code",
   "execution_count": 36,
   "id": "66a10056-d29d-4fa5-8751-cb6b3f3cafd6",
   "metadata": {},
   "outputs": [],
   "source": [
    "model.add(Conv2D(filters=512,kernel_size=3,padding='same',activation='relu'))\n",
    "model.add(Conv2D(filters=512,kernel_size=3,activation='relu'))\n",
    "model.add(MaxPool2D(pool_size=2,strides=2))"
   ]
  },
  {
   "cell_type": "code",
   "execution_count": 37,
   "id": "e3ea860b-6c8e-4068-b9f0-bfc01877e975",
   "metadata": {},
   "outputs": [],
   "source": [
    "model.add(Dropout(0.25)) # To Avoid overfitting"
   ]
  },
  {
   "cell_type": "code",
   "execution_count": 38,
   "id": "9aa0aab2-6113-43cc-841e-3f0b7e3e42b5",
   "metadata": {},
   "outputs": [],
   "source": [
    "model.add(Flatten())"
   ]
  },
  {
   "cell_type": "code",
   "execution_count": 39,
   "id": "12c71bf0-7b11-4527-a776-d408e3314ec4",
   "metadata": {},
   "outputs": [],
   "source": [
    "model.add(Dense(units=1500,activation='relu'))"
   ]
  },
  {
   "cell_type": "code",
   "execution_count": 40,
   "id": "b0492f8f-627c-4e17-a30d-9cf4fd4f3327",
   "metadata": {},
   "outputs": [],
   "source": [
    "model.add(Dropout(0.4))"
   ]
  },
  {
   "cell_type": "code",
   "execution_count": 41,
   "id": "2ae90896-1df2-453a-b765-4f8fbc0c9601",
   "metadata": {},
   "outputs": [],
   "source": [
    "#Output Layer\n",
    "model.add(Dense(units=38,activation='softmax'))"
   ]
  },
  {
   "cell_type": "markdown",
   "id": "af041a9f-346a-4da9-bce5-9c26612704c8",
   "metadata": {},
   "source": [
    "## Compiling model"
   ]
  },
  {
   "cell_type": "code",
   "execution_count": 42,
   "id": "07bb72ff-0813-41be-82e7-fe89bcdee4f1",
   "metadata": {},
   "outputs": [],
   "source": [
    "\n",
    "\n",
    "# model.compile(optimizer='adam',loss='categorical_crossentropy',metrics=['accuracy'])"
   ]
  },
  {
   "cell_type": "code",
   "execution_count": 43,
   "id": "9c07e28d-3126-4a05-a4f6-38219182a955",
   "metadata": {},
   "outputs": [],
   "source": [
    "model.compile(optimizer=tf.keras.optimizers.Adam(learning_rate=0.0001),loss='categorical_crossentropy',metrics=['accuracy'])"
   ]
  },
  {
   "cell_type": "code",
   "execution_count": 44,
   "id": "b332f65c-b367-425e-ad85-aae3e7892ea2",
   "metadata": {},
   "outputs": [
    {
     "data": {
      "text/html": [
       "<pre style=\"white-space:pre;overflow-x:auto;line-height:normal;font-family:Menlo,'DejaVu Sans Mono',consolas,'Courier New',monospace\"><span style=\"font-weight: bold\">Model: \"sequential_1\"</span>\n",
       "</pre>\n"
      ],
      "text/plain": [
       "\u001b[1mModel: \"sequential_1\"\u001b[0m\n"
      ]
     },
     "metadata": {},
     "output_type": "display_data"
    },
    {
     "data": {
      "text/html": [
       "<pre style=\"white-space:pre;overflow-x:auto;line-height:normal;font-family:Menlo,'DejaVu Sans Mono',consolas,'Courier New',monospace\">┏━━━━━━━━━━━━━━━━━━━━━━━━━━━━━━━━━┳━━━━━━━━━━━━━━━━━━━━━━━━┳━━━━━━━━━━━━━━━┓\n",
       "┃<span style=\"font-weight: bold\"> Layer (type)                    </span>┃<span style=\"font-weight: bold\"> Output Shape           </span>┃<span style=\"font-weight: bold\">       Param # </span>┃\n",
       "┡━━━━━━━━━━━━━━━━━━━━━━━━━━━━━━━━━╇━━━━━━━━━━━━━━━━━━━━━━━━╇━━━━━━━━━━━━━━━┩\n",
       "│ conv2d_12 (<span style=\"color: #0087ff; text-decoration-color: #0087ff\">Conv2D</span>)              │ (<span style=\"color: #00d7ff; text-decoration-color: #00d7ff\">None</span>, <span style=\"color: #00af00; text-decoration-color: #00af00\">128</span>, <span style=\"color: #00af00; text-decoration-color: #00af00\">128</span>, <span style=\"color: #00af00; text-decoration-color: #00af00\">32</span>)   │           <span style=\"color: #00af00; text-decoration-color: #00af00\">896</span> │\n",
       "├─────────────────────────────────┼────────────────────────┼───────────────┤\n",
       "│ conv2d_13 (<span style=\"color: #0087ff; text-decoration-color: #0087ff\">Conv2D</span>)              │ (<span style=\"color: #00d7ff; text-decoration-color: #00d7ff\">None</span>, <span style=\"color: #00af00; text-decoration-color: #00af00\">126</span>, <span style=\"color: #00af00; text-decoration-color: #00af00\">126</span>, <span style=\"color: #00af00; text-decoration-color: #00af00\">32</span>)   │         <span style=\"color: #00af00; text-decoration-color: #00af00\">9,248</span> │\n",
       "├─────────────────────────────────┼────────────────────────┼───────────────┤\n",
       "│ max_pooling2d_6 (<span style=\"color: #0087ff; text-decoration-color: #0087ff\">MaxPooling2D</span>)  │ (<span style=\"color: #00d7ff; text-decoration-color: #00d7ff\">None</span>, <span style=\"color: #00af00; text-decoration-color: #00af00\">63</span>, <span style=\"color: #00af00; text-decoration-color: #00af00\">63</span>, <span style=\"color: #00af00; text-decoration-color: #00af00\">32</span>)     │             <span style=\"color: #00af00; text-decoration-color: #00af00\">0</span> │\n",
       "├─────────────────────────────────┼────────────────────────┼───────────────┤\n",
       "│ conv2d_14 (<span style=\"color: #0087ff; text-decoration-color: #0087ff\">Conv2D</span>)              │ (<span style=\"color: #00d7ff; text-decoration-color: #00d7ff\">None</span>, <span style=\"color: #00af00; text-decoration-color: #00af00\">63</span>, <span style=\"color: #00af00; text-decoration-color: #00af00\">63</span>, <span style=\"color: #00af00; text-decoration-color: #00af00\">64</span>)     │        <span style=\"color: #00af00; text-decoration-color: #00af00\">18,496</span> │\n",
       "├─────────────────────────────────┼────────────────────────┼───────────────┤\n",
       "│ conv2d_15 (<span style=\"color: #0087ff; text-decoration-color: #0087ff\">Conv2D</span>)              │ (<span style=\"color: #00d7ff; text-decoration-color: #00d7ff\">None</span>, <span style=\"color: #00af00; text-decoration-color: #00af00\">61</span>, <span style=\"color: #00af00; text-decoration-color: #00af00\">61</span>, <span style=\"color: #00af00; text-decoration-color: #00af00\">64</span>)     │        <span style=\"color: #00af00; text-decoration-color: #00af00\">36,928</span> │\n",
       "├─────────────────────────────────┼────────────────────────┼───────────────┤\n",
       "│ max_pooling2d_7 (<span style=\"color: #0087ff; text-decoration-color: #0087ff\">MaxPooling2D</span>)  │ (<span style=\"color: #00d7ff; text-decoration-color: #00d7ff\">None</span>, <span style=\"color: #00af00; text-decoration-color: #00af00\">30</span>, <span style=\"color: #00af00; text-decoration-color: #00af00\">30</span>, <span style=\"color: #00af00; text-decoration-color: #00af00\">64</span>)     │             <span style=\"color: #00af00; text-decoration-color: #00af00\">0</span> │\n",
       "├─────────────────────────────────┼────────────────────────┼───────────────┤\n",
       "│ conv2d_16 (<span style=\"color: #0087ff; text-decoration-color: #0087ff\">Conv2D</span>)              │ (<span style=\"color: #00d7ff; text-decoration-color: #00d7ff\">None</span>, <span style=\"color: #00af00; text-decoration-color: #00af00\">30</span>, <span style=\"color: #00af00; text-decoration-color: #00af00\">30</span>, <span style=\"color: #00af00; text-decoration-color: #00af00\">128</span>)    │        <span style=\"color: #00af00; text-decoration-color: #00af00\">73,856</span> │\n",
       "├─────────────────────────────────┼────────────────────────┼───────────────┤\n",
       "│ conv2d_17 (<span style=\"color: #0087ff; text-decoration-color: #0087ff\">Conv2D</span>)              │ (<span style=\"color: #00d7ff; text-decoration-color: #00d7ff\">None</span>, <span style=\"color: #00af00; text-decoration-color: #00af00\">28</span>, <span style=\"color: #00af00; text-decoration-color: #00af00\">28</span>, <span style=\"color: #00af00; text-decoration-color: #00af00\">128</span>)    │       <span style=\"color: #00af00; text-decoration-color: #00af00\">147,584</span> │\n",
       "├─────────────────────────────────┼────────────────────────┼───────────────┤\n",
       "│ max_pooling2d_8 (<span style=\"color: #0087ff; text-decoration-color: #0087ff\">MaxPooling2D</span>)  │ (<span style=\"color: #00d7ff; text-decoration-color: #00d7ff\">None</span>, <span style=\"color: #00af00; text-decoration-color: #00af00\">14</span>, <span style=\"color: #00af00; text-decoration-color: #00af00\">14</span>, <span style=\"color: #00af00; text-decoration-color: #00af00\">128</span>)    │             <span style=\"color: #00af00; text-decoration-color: #00af00\">0</span> │\n",
       "├─────────────────────────────────┼────────────────────────┼───────────────┤\n",
       "│ conv2d_18 (<span style=\"color: #0087ff; text-decoration-color: #0087ff\">Conv2D</span>)              │ (<span style=\"color: #00d7ff; text-decoration-color: #00d7ff\">None</span>, <span style=\"color: #00af00; text-decoration-color: #00af00\">14</span>, <span style=\"color: #00af00; text-decoration-color: #00af00\">14</span>, <span style=\"color: #00af00; text-decoration-color: #00af00\">256</span>)    │       <span style=\"color: #00af00; text-decoration-color: #00af00\">295,168</span> │\n",
       "├─────────────────────────────────┼────────────────────────┼───────────────┤\n",
       "│ conv2d_19 (<span style=\"color: #0087ff; text-decoration-color: #0087ff\">Conv2D</span>)              │ (<span style=\"color: #00d7ff; text-decoration-color: #00d7ff\">None</span>, <span style=\"color: #00af00; text-decoration-color: #00af00\">12</span>, <span style=\"color: #00af00; text-decoration-color: #00af00\">12</span>, <span style=\"color: #00af00; text-decoration-color: #00af00\">256</span>)    │       <span style=\"color: #00af00; text-decoration-color: #00af00\">590,080</span> │\n",
       "├─────────────────────────────────┼────────────────────────┼───────────────┤\n",
       "│ max_pooling2d_9 (<span style=\"color: #0087ff; text-decoration-color: #0087ff\">MaxPooling2D</span>)  │ (<span style=\"color: #00d7ff; text-decoration-color: #00d7ff\">None</span>, <span style=\"color: #00af00; text-decoration-color: #00af00\">6</span>, <span style=\"color: #00af00; text-decoration-color: #00af00\">6</span>, <span style=\"color: #00af00; text-decoration-color: #00af00\">256</span>)      │             <span style=\"color: #00af00; text-decoration-color: #00af00\">0</span> │\n",
       "├─────────────────────────────────┼────────────────────────┼───────────────┤\n",
       "│ conv2d_20 (<span style=\"color: #0087ff; text-decoration-color: #0087ff\">Conv2D</span>)              │ (<span style=\"color: #00d7ff; text-decoration-color: #00d7ff\">None</span>, <span style=\"color: #00af00; text-decoration-color: #00af00\">6</span>, <span style=\"color: #00af00; text-decoration-color: #00af00\">6</span>, <span style=\"color: #00af00; text-decoration-color: #00af00\">512</span>)      │     <span style=\"color: #00af00; text-decoration-color: #00af00\">1,180,160</span> │\n",
       "├─────────────────────────────────┼────────────────────────┼───────────────┤\n",
       "│ conv2d_21 (<span style=\"color: #0087ff; text-decoration-color: #0087ff\">Conv2D</span>)              │ (<span style=\"color: #00d7ff; text-decoration-color: #00d7ff\">None</span>, <span style=\"color: #00af00; text-decoration-color: #00af00\">4</span>, <span style=\"color: #00af00; text-decoration-color: #00af00\">4</span>, <span style=\"color: #00af00; text-decoration-color: #00af00\">512</span>)      │     <span style=\"color: #00af00; text-decoration-color: #00af00\">2,359,808</span> │\n",
       "├─────────────────────────────────┼────────────────────────┼───────────────┤\n",
       "│ max_pooling2d_10 (<span style=\"color: #0087ff; text-decoration-color: #0087ff\">MaxPooling2D</span>) │ (<span style=\"color: #00d7ff; text-decoration-color: #00d7ff\">None</span>, <span style=\"color: #00af00; text-decoration-color: #00af00\">2</span>, <span style=\"color: #00af00; text-decoration-color: #00af00\">2</span>, <span style=\"color: #00af00; text-decoration-color: #00af00\">512</span>)      │             <span style=\"color: #00af00; text-decoration-color: #00af00\">0</span> │\n",
       "├─────────────────────────────────┼────────────────────────┼───────────────┤\n",
       "│ dropout_2 (<span style=\"color: #0087ff; text-decoration-color: #0087ff\">Dropout</span>)             │ (<span style=\"color: #00d7ff; text-decoration-color: #00d7ff\">None</span>, <span style=\"color: #00af00; text-decoration-color: #00af00\">2</span>, <span style=\"color: #00af00; text-decoration-color: #00af00\">2</span>, <span style=\"color: #00af00; text-decoration-color: #00af00\">512</span>)      │             <span style=\"color: #00af00; text-decoration-color: #00af00\">0</span> │\n",
       "├─────────────────────────────────┼────────────────────────┼───────────────┤\n",
       "│ flatten_1 (<span style=\"color: #0087ff; text-decoration-color: #0087ff\">Flatten</span>)             │ (<span style=\"color: #00d7ff; text-decoration-color: #00d7ff\">None</span>, <span style=\"color: #00af00; text-decoration-color: #00af00\">2048</span>)           │             <span style=\"color: #00af00; text-decoration-color: #00af00\">0</span> │\n",
       "├─────────────────────────────────┼────────────────────────┼───────────────┤\n",
       "│ dense_2 (<span style=\"color: #0087ff; text-decoration-color: #0087ff\">Dense</span>)                 │ (<span style=\"color: #00d7ff; text-decoration-color: #00d7ff\">None</span>, <span style=\"color: #00af00; text-decoration-color: #00af00\">1500</span>)           │     <span style=\"color: #00af00; text-decoration-color: #00af00\">3,073,500</span> │\n",
       "├─────────────────────────────────┼────────────────────────┼───────────────┤\n",
       "│ dropout_3 (<span style=\"color: #0087ff; text-decoration-color: #0087ff\">Dropout</span>)             │ (<span style=\"color: #00d7ff; text-decoration-color: #00d7ff\">None</span>, <span style=\"color: #00af00; text-decoration-color: #00af00\">1500</span>)           │             <span style=\"color: #00af00; text-decoration-color: #00af00\">0</span> │\n",
       "├─────────────────────────────────┼────────────────────────┼───────────────┤\n",
       "│ dense_3 (<span style=\"color: #0087ff; text-decoration-color: #0087ff\">Dense</span>)                 │ (<span style=\"color: #00d7ff; text-decoration-color: #00d7ff\">None</span>, <span style=\"color: #00af00; text-decoration-color: #00af00\">38</span>)             │        <span style=\"color: #00af00; text-decoration-color: #00af00\">57,038</span> │\n",
       "└─────────────────────────────────┴────────────────────────┴───────────────┘\n",
       "</pre>\n"
      ],
      "text/plain": [
       "┏━━━━━━━━━━━━━━━━━━━━━━━━━━━━━━━━━┳━━━━━━━━━━━━━━━━━━━━━━━━┳━━━━━━━━━━━━━━━┓\n",
       "┃\u001b[1m \u001b[0m\u001b[1mLayer (type)                   \u001b[0m\u001b[1m \u001b[0m┃\u001b[1m \u001b[0m\u001b[1mOutput Shape          \u001b[0m\u001b[1m \u001b[0m┃\u001b[1m \u001b[0m\u001b[1m      Param #\u001b[0m\u001b[1m \u001b[0m┃\n",
       "┡━━━━━━━━━━━━━━━━━━━━━━━━━━━━━━━━━╇━━━━━━━━━━━━━━━━━━━━━━━━╇━━━━━━━━━━━━━━━┩\n",
       "│ conv2d_12 (\u001b[38;5;33mConv2D\u001b[0m)              │ (\u001b[38;5;45mNone\u001b[0m, \u001b[38;5;34m128\u001b[0m, \u001b[38;5;34m128\u001b[0m, \u001b[38;5;34m32\u001b[0m)   │           \u001b[38;5;34m896\u001b[0m │\n",
       "├─────────────────────────────────┼────────────────────────┼───────────────┤\n",
       "│ conv2d_13 (\u001b[38;5;33mConv2D\u001b[0m)              │ (\u001b[38;5;45mNone\u001b[0m, \u001b[38;5;34m126\u001b[0m, \u001b[38;5;34m126\u001b[0m, \u001b[38;5;34m32\u001b[0m)   │         \u001b[38;5;34m9,248\u001b[0m │\n",
       "├─────────────────────────────────┼────────────────────────┼───────────────┤\n",
       "│ max_pooling2d_6 (\u001b[38;5;33mMaxPooling2D\u001b[0m)  │ (\u001b[38;5;45mNone\u001b[0m, \u001b[38;5;34m63\u001b[0m, \u001b[38;5;34m63\u001b[0m, \u001b[38;5;34m32\u001b[0m)     │             \u001b[38;5;34m0\u001b[0m │\n",
       "├─────────────────────────────────┼────────────────────────┼───────────────┤\n",
       "│ conv2d_14 (\u001b[38;5;33mConv2D\u001b[0m)              │ (\u001b[38;5;45mNone\u001b[0m, \u001b[38;5;34m63\u001b[0m, \u001b[38;5;34m63\u001b[0m, \u001b[38;5;34m64\u001b[0m)     │        \u001b[38;5;34m18,496\u001b[0m │\n",
       "├─────────────────────────────────┼────────────────────────┼───────────────┤\n",
       "│ conv2d_15 (\u001b[38;5;33mConv2D\u001b[0m)              │ (\u001b[38;5;45mNone\u001b[0m, \u001b[38;5;34m61\u001b[0m, \u001b[38;5;34m61\u001b[0m, \u001b[38;5;34m64\u001b[0m)     │        \u001b[38;5;34m36,928\u001b[0m │\n",
       "├─────────────────────────────────┼────────────────────────┼───────────────┤\n",
       "│ max_pooling2d_7 (\u001b[38;5;33mMaxPooling2D\u001b[0m)  │ (\u001b[38;5;45mNone\u001b[0m, \u001b[38;5;34m30\u001b[0m, \u001b[38;5;34m30\u001b[0m, \u001b[38;5;34m64\u001b[0m)     │             \u001b[38;5;34m0\u001b[0m │\n",
       "├─────────────────────────────────┼────────────────────────┼───────────────┤\n",
       "│ conv2d_16 (\u001b[38;5;33mConv2D\u001b[0m)              │ (\u001b[38;5;45mNone\u001b[0m, \u001b[38;5;34m30\u001b[0m, \u001b[38;5;34m30\u001b[0m, \u001b[38;5;34m128\u001b[0m)    │        \u001b[38;5;34m73,856\u001b[0m │\n",
       "├─────────────────────────────────┼────────────────────────┼───────────────┤\n",
       "│ conv2d_17 (\u001b[38;5;33mConv2D\u001b[0m)              │ (\u001b[38;5;45mNone\u001b[0m, \u001b[38;5;34m28\u001b[0m, \u001b[38;5;34m28\u001b[0m, \u001b[38;5;34m128\u001b[0m)    │       \u001b[38;5;34m147,584\u001b[0m │\n",
       "├─────────────────────────────────┼────────────────────────┼───────────────┤\n",
       "│ max_pooling2d_8 (\u001b[38;5;33mMaxPooling2D\u001b[0m)  │ (\u001b[38;5;45mNone\u001b[0m, \u001b[38;5;34m14\u001b[0m, \u001b[38;5;34m14\u001b[0m, \u001b[38;5;34m128\u001b[0m)    │             \u001b[38;5;34m0\u001b[0m │\n",
       "├─────────────────────────────────┼────────────────────────┼───────────────┤\n",
       "│ conv2d_18 (\u001b[38;5;33mConv2D\u001b[0m)              │ (\u001b[38;5;45mNone\u001b[0m, \u001b[38;5;34m14\u001b[0m, \u001b[38;5;34m14\u001b[0m, \u001b[38;5;34m256\u001b[0m)    │       \u001b[38;5;34m295,168\u001b[0m │\n",
       "├─────────────────────────────────┼────────────────────────┼───────────────┤\n",
       "│ conv2d_19 (\u001b[38;5;33mConv2D\u001b[0m)              │ (\u001b[38;5;45mNone\u001b[0m, \u001b[38;5;34m12\u001b[0m, \u001b[38;5;34m12\u001b[0m, \u001b[38;5;34m256\u001b[0m)    │       \u001b[38;5;34m590,080\u001b[0m │\n",
       "├─────────────────────────────────┼────────────────────────┼───────────────┤\n",
       "│ max_pooling2d_9 (\u001b[38;5;33mMaxPooling2D\u001b[0m)  │ (\u001b[38;5;45mNone\u001b[0m, \u001b[38;5;34m6\u001b[0m, \u001b[38;5;34m6\u001b[0m, \u001b[38;5;34m256\u001b[0m)      │             \u001b[38;5;34m0\u001b[0m │\n",
       "├─────────────────────────────────┼────────────────────────┼───────────────┤\n",
       "│ conv2d_20 (\u001b[38;5;33mConv2D\u001b[0m)              │ (\u001b[38;5;45mNone\u001b[0m, \u001b[38;5;34m6\u001b[0m, \u001b[38;5;34m6\u001b[0m, \u001b[38;5;34m512\u001b[0m)      │     \u001b[38;5;34m1,180,160\u001b[0m │\n",
       "├─────────────────────────────────┼────────────────────────┼───────────────┤\n",
       "│ conv2d_21 (\u001b[38;5;33mConv2D\u001b[0m)              │ (\u001b[38;5;45mNone\u001b[0m, \u001b[38;5;34m4\u001b[0m, \u001b[38;5;34m4\u001b[0m, \u001b[38;5;34m512\u001b[0m)      │     \u001b[38;5;34m2,359,808\u001b[0m │\n",
       "├─────────────────────────────────┼────────────────────────┼───────────────┤\n",
       "│ max_pooling2d_10 (\u001b[38;5;33mMaxPooling2D\u001b[0m) │ (\u001b[38;5;45mNone\u001b[0m, \u001b[38;5;34m2\u001b[0m, \u001b[38;5;34m2\u001b[0m, \u001b[38;5;34m512\u001b[0m)      │             \u001b[38;5;34m0\u001b[0m │\n",
       "├─────────────────────────────────┼────────────────────────┼───────────────┤\n",
       "│ dropout_2 (\u001b[38;5;33mDropout\u001b[0m)             │ (\u001b[38;5;45mNone\u001b[0m, \u001b[38;5;34m2\u001b[0m, \u001b[38;5;34m2\u001b[0m, \u001b[38;5;34m512\u001b[0m)      │             \u001b[38;5;34m0\u001b[0m │\n",
       "├─────────────────────────────────┼────────────────────────┼───────────────┤\n",
       "│ flatten_1 (\u001b[38;5;33mFlatten\u001b[0m)             │ (\u001b[38;5;45mNone\u001b[0m, \u001b[38;5;34m2048\u001b[0m)           │             \u001b[38;5;34m0\u001b[0m │\n",
       "├─────────────────────────────────┼────────────────────────┼───────────────┤\n",
       "│ dense_2 (\u001b[38;5;33mDense\u001b[0m)                 │ (\u001b[38;5;45mNone\u001b[0m, \u001b[38;5;34m1500\u001b[0m)           │     \u001b[38;5;34m3,073,500\u001b[0m │\n",
       "├─────────────────────────────────┼────────────────────────┼───────────────┤\n",
       "│ dropout_3 (\u001b[38;5;33mDropout\u001b[0m)             │ (\u001b[38;5;45mNone\u001b[0m, \u001b[38;5;34m1500\u001b[0m)           │             \u001b[38;5;34m0\u001b[0m │\n",
       "├─────────────────────────────────┼────────────────────────┼───────────────┤\n",
       "│ dense_3 (\u001b[38;5;33mDense\u001b[0m)                 │ (\u001b[38;5;45mNone\u001b[0m, \u001b[38;5;34m38\u001b[0m)             │        \u001b[38;5;34m57,038\u001b[0m │\n",
       "└─────────────────────────────────┴────────────────────────┴───────────────┘\n"
      ]
     },
     "metadata": {},
     "output_type": "display_data"
    },
    {
     "data": {
      "text/html": [
       "<pre style=\"white-space:pre;overflow-x:auto;line-height:normal;font-family:Menlo,'DejaVu Sans Mono',consolas,'Courier New',monospace\"><span style=\"font-weight: bold\"> Total params: </span><span style=\"color: #00af00; text-decoration-color: #00af00\">7,842,762</span> (29.92 MB)\n",
       "</pre>\n"
      ],
      "text/plain": [
       "\u001b[1m Total params: \u001b[0m\u001b[38;5;34m7,842,762\u001b[0m (29.92 MB)\n"
      ]
     },
     "metadata": {},
     "output_type": "display_data"
    },
    {
     "data": {
      "text/html": [
       "<pre style=\"white-space:pre;overflow-x:auto;line-height:normal;font-family:Menlo,'DejaVu Sans Mono',consolas,'Courier New',monospace\"><span style=\"font-weight: bold\"> Trainable params: </span><span style=\"color: #00af00; text-decoration-color: #00af00\">7,842,762</span> (29.92 MB)\n",
       "</pre>\n"
      ],
      "text/plain": [
       "\u001b[1m Trainable params: \u001b[0m\u001b[38;5;34m7,842,762\u001b[0m (29.92 MB)\n"
      ]
     },
     "metadata": {},
     "output_type": "display_data"
    },
    {
     "data": {
      "text/html": [
       "<pre style=\"white-space:pre;overflow-x:auto;line-height:normal;font-family:Menlo,'DejaVu Sans Mono',consolas,'Courier New',monospace\"><span style=\"font-weight: bold\"> Non-trainable params: </span><span style=\"color: #00af00; text-decoration-color: #00af00\">0</span> (0.00 B)\n",
       "</pre>\n"
      ],
      "text/plain": [
       "\u001b[1m Non-trainable params: \u001b[0m\u001b[38;5;34m0\u001b[0m (0.00 B)\n"
      ]
     },
     "metadata": {},
     "output_type": "display_data"
    }
   ],
   "source": [
    "model.summary()"
   ]
  },
  {
   "cell_type": "markdown",
   "id": "384e55ed-d957-4578-9802-8d9168234f30",
   "metadata": {},
   "source": [
    "## Model Training"
   ]
  },
  {
   "cell_type": "code",
   "execution_count": 45,
   "id": "cb6eb043-db9d-4172-a4b6-2563950cf2f4",
   "metadata": {},
   "outputs": [
    {
     "name": "stdout",
     "output_type": "stream",
     "text": [
      "Epoch 1/10\n",
      "\u001b[1m2197/2197\u001b[0m \u001b[32m━━━━━━━━━━━━━━━━━━━━\u001b[0m\u001b[37m\u001b[0m \u001b[1m4837s\u001b[0m 2s/step - accuracy: 0.4269 - loss: 2.0176 - val_accuracy: 0.8112 - val_loss: 0.5940\n",
      "Epoch 2/10\n",
      "\u001b[1m2197/2197\u001b[0m \u001b[32m━━━━━━━━━━━━━━━━━━━━\u001b[0m\u001b[37m\u001b[0m \u001b[1m4500s\u001b[0m 2s/step - accuracy: 0.8437 - loss: 0.4914 - val_accuracy: 0.9121 - val_loss: 0.2728\n",
      "Epoch 3/10\n",
      "\u001b[1m2197/2197\u001b[0m \u001b[32m━━━━━━━━━━━━━━━━━━━━\u001b[0m\u001b[37m\u001b[0m \u001b[1m4491s\u001b[0m 2s/step - accuracy: 0.9082 - loss: 0.2859 - val_accuracy: 0.9383 - val_loss: 0.1855\n",
      "Epoch 4/10\n",
      "\u001b[1m2197/2197\u001b[0m \u001b[32m━━━━━━━━━━━━━━━━━━━━\u001b[0m\u001b[37m\u001b[0m \u001b[1m4743s\u001b[0m 2s/step - accuracy: 0.9393 - loss: 0.1845 - val_accuracy: 0.9460 - val_loss: 0.1705\n",
      "Epoch 5/10\n",
      "\u001b[1m2197/2197\u001b[0m \u001b[32m━━━━━━━━━━━━━━━━━━━━\u001b[0m\u001b[37m\u001b[0m \u001b[1m5674s\u001b[0m 3s/step - accuracy: 0.9529 - loss: 0.1422 - val_accuracy: 0.9585 - val_loss: 0.1319\n",
      "Epoch 6/10\n",
      "\u001b[1m2197/2197\u001b[0m \u001b[32m━━━━━━━━━━━━━━━━━━━━\u001b[0m\u001b[37m\u001b[0m \u001b[1m5317s\u001b[0m 2s/step - accuracy: 0.9648 - loss: 0.1079 - val_accuracy: 0.9651 - val_loss: 0.1117\n",
      "Epoch 7/10\n",
      "\u001b[1m2197/2197\u001b[0m \u001b[32m━━━━━━━━━━━━━━━━━━━━\u001b[0m\u001b[37m\u001b[0m \u001b[1m4832s\u001b[0m 2s/step - accuracy: 0.9706 - loss: 0.0906 - val_accuracy: 0.9661 - val_loss: 0.1130\n",
      "Epoch 8/10\n",
      "\u001b[1m2197/2197\u001b[0m \u001b[32m━━━━━━━━━━━━━━━━━━━━\u001b[0m\u001b[37m\u001b[0m \u001b[1m4541s\u001b[0m 2s/step - accuracy: 0.9749 - loss: 0.0769 - val_accuracy: 0.9637 - val_loss: 0.1181\n",
      "Epoch 9/10\n",
      "\u001b[1m2197/2197\u001b[0m \u001b[32m━━━━━━━━━━━━━━━━━━━━\u001b[0m\u001b[37m\u001b[0m \u001b[1m5215s\u001b[0m 2s/step - accuracy: 0.9805 - loss: 0.0591 - val_accuracy: 0.9681 - val_loss: 0.1132\n",
      "Epoch 10/10\n",
      "\u001b[1m2197/2197\u001b[0m \u001b[32m━━━━━━━━━━━━━━━━━━━━\u001b[0m\u001b[37m\u001b[0m \u001b[1m4870s\u001b[0m 2s/step - accuracy: 0.9821 - loss: 0.0537 - val_accuracy: 0.9577 - val_loss: 0.1412\n"
     ]
    }
   ],
   "source": [
    "training_history = model.fit(x=training_set,validation_data=validation_set,epochs=10)"
   ]
  },
  {
   "cell_type": "markdown",
   "id": "fe0964d2-bad5-4f01-9b90-6a10565cc399",
   "metadata": {},
   "source": [
    "## Evaluating Model"
   ]
  },
  {
   "cell_type": "code",
   "execution_count": 46,
   "id": "d8aff617-8ec2-4b3c-8b52-b4dc7655c876",
   "metadata": {},
   "outputs": [
    {
     "name": "stdout",
     "output_type": "stream",
     "text": [
      "\u001b[1m2197/2197\u001b[0m \u001b[32m━━━━━━━━━━━━━━━━━━━━\u001b[0m\u001b[37m\u001b[0m \u001b[1m1349s\u001b[0m 614ms/step - accuracy: 0.9834 - loss: 0.0510\n",
      "Training accuracy: 0.9852905869483948\n"
     ]
    }
   ],
   "source": [
    "#Training set Accuracy\n",
    "train_loss, train_acc = model.evaluate(training_set)\n",
    "print('Training accuracy:', train_acc)"
   ]
  },
  {
   "cell_type": "code",
   "execution_count": 47,
   "id": "fef7c789-f977-493d-aade-a24b23e65e83",
   "metadata": {},
   "outputs": [
    {
     "name": "stdout",
     "output_type": "stream",
     "text": [
      "\u001b[1m550/550\u001b[0m \u001b[32m━━━━━━━━━━━━━━━━━━━━\u001b[0m\u001b[37m\u001b[0m \u001b[1m332s\u001b[0m 602ms/step - accuracy: 0.9561 - loss: 0.1411\n",
      "Validation accuracy: 0.957659900188446\n"
     ]
    }
   ],
   "source": [
    "#Validation set Accuracy\n",
    "val_loss, val_acc = model.evaluate(validation_set)\n",
    "print('Validation accuracy:', val_acc)"
   ]
  },
  {
   "cell_type": "markdown",
   "id": "b1987990-72b9-4cc5-8ff4-4bffd3aabdd1",
   "metadata": {},
   "source": [
    "### Saving Model"
   ]
  },
  {
   "cell_type": "code",
   "execution_count": 59,
   "id": "14d47312-a340-47ce-87df-163346a88e80",
   "metadata": {},
   "outputs": [],
   "source": [
    "model.save(\"trained_model.keras\")"
   ]
  },
  {
   "cell_type": "code",
   "execution_count": null,
   "id": "ad3b79ed-60bf-4433-b9c7-a7418f42aa4e",
   "metadata": {},
   "outputs": [],
   "source": [
    "# model.save('trained_model.keras')"
   ]
  },
  {
   "cell_type": "code",
   "execution_count": 60,
   "id": "fe83fc56-0de2-4f08-8374-d4d5ba857cb0",
   "metadata": {},
   "outputs": [
    {
     "data": {
      "text/plain": [
       "{'accuracy': [0.6239703893661499,\n",
       "  0.8654527068138123,\n",
       "  0.9176186323165894,\n",
       "  0.9430685043334961,\n",
       "  0.958062469959259,\n",
       "  0.9662991762161255,\n",
       "  0.9729141592979431,\n",
       "  0.976385235786438,\n",
       "  0.9800554513931274,\n",
       "  0.9825876951217651],\n",
       " 'loss': [1.2662907838821411,\n",
       "  0.42086586356163025,\n",
       "  0.2556857764720917,\n",
       "  0.17231535911560059,\n",
       "  0.1293671876192093,\n",
       "  0.10089161992073059,\n",
       "  0.08196204900741577,\n",
       "  0.07200636714696884,\n",
       "  0.06137901172041893,\n",
       "  0.053972870111465454],\n",
       " 'val_accuracy': [0.8111768960952759,\n",
       "  0.9120760560035706,\n",
       "  0.9383109211921692,\n",
       "  0.9459936022758484,\n",
       "  0.9585135579109192,\n",
       "  0.965114951133728,\n",
       "  0.9661393165588379,\n",
       "  0.9636922478675842,\n",
       "  0.9681311249732971,\n",
       "  0.957659900188446],\n",
       " 'val_loss': [0.5940120816230774,\n",
       "  0.2727743685245514,\n",
       "  0.18550236523151398,\n",
       "  0.17045429348945618,\n",
       "  0.13186432421207428,\n",
       "  0.11169631779193878,\n",
       "  0.11295835673809052,\n",
       "  0.11812565475702286,\n",
       "  0.11322436481714249,\n",
       "  0.14116714894771576]}"
      ]
     },
     "execution_count": 60,
     "metadata": {},
     "output_type": "execute_result"
    }
   ],
   "source": [
    "training_history.history #Return Dictionary of history"
   ]
  },
  {
   "cell_type": "code",
   "execution_count": 62,
   "id": "8fba9073-5344-4655-9a13-3c357b11dcd6",
   "metadata": {},
   "outputs": [],
   "source": [
    "#Recording History in json\n",
    "import json\n",
    "with open('training_hist.json','w') as f:\n",
    "  json.dump(training_history.history,f)"
   ]
  },
  {
   "cell_type": "code",
   "execution_count": 63,
   "id": "21213ff7-1801-4306-be88-0405047b32b9",
   "metadata": {},
   "outputs": [
    {
     "name": "stdout",
     "output_type": "stream",
     "text": [
      "dict_keys(['accuracy', 'loss', 'val_accuracy', 'val_loss'])\n"
     ]
    }
   ],
   "source": [
    "print(training_history.history.keys())"
   ]
  },
  {
   "cell_type": "markdown",
   "id": "2cbb44ed-9f6a-4ab3-bf5d-36a24faa65ba",
   "metadata": {},
   "source": [
    "## Accuracy Visualization"
   ]
  },
  {
   "cell_type": "code",
   "execution_count": 64,
   "id": "b2b73e12-7495-454c-9991-1e1983598019",
   "metadata": {},
   "outputs": [
    {
     "data": {
      "image/png": "[encoded data removed]",
      "text/plain": [
       "<Figure size 640x480 with 1 Axes>"
      ]
     },
     "metadata": {},
     "output_type": "display_data"
    }
   ],
   "source": [
    "epochs = [i for i in range(1,11)]\n",
    "plt.plot(epochs,training_history.history['accuracy'],color='red',label='Training Accuracy')\n",
    "plt.plot(epochs,training_history.history['val_accuracy'],color='blue',label='Validation Accuracy')\n",
    "plt.xlabel('No. of Epochs')\n",
    "plt.title('Visualization of Accuracy Result')\n",
    "plt.legend()\n",
    "plt.show()"
   ]
  },
  {
   "cell_type": "markdown",
   "id": "5af6925f-589b-4fe3-bb30-3f92fd39fee4",
   "metadata": {},
   "source": [
    "## Some other metrics for model evaluation"
   ]
  },
  {
   "cell_type": "code",
   "execution_count": 65,
   "id": "7c209fa2-85c6-4efa-96c2-4a7e8d1dc7b9",
   "metadata": {},
   "outputs": [
    {
     "data": {
      "text/plain": [
       "['Apple___Apple_scab',\n",
       " 'Apple___Black_rot',\n",
       " 'Apple___Cedar_apple_rust',\n",
       " 'Apple___healthy',\n",
       " 'Blueberry___healthy',\n",
       " 'Cherry_(including_sour)___Powdery_mildew',\n",
       " 'Cherry_(including_sour)___healthy',\n",
       " 'Corn_(maize)___Cercospora_leaf_spot Gray_leaf_spot',\n",
       " 'Corn_(maize)___Common_rust_',\n",
       " 'Corn_(maize)___Northern_Leaf_Blight',\n",
       " 'Corn_(maize)___healthy',\n",
       " 'Grape___Black_rot',\n",
       " 'Grape___Esca_(Black_Measles)',\n",
       " 'Grape___Leaf_blight_(Isariopsis_Leaf_Spot)',\n",
       " 'Grape___healthy',\n",
       " 'Orange___Haunglongbing_(Citrus_greening)',\n",
       " 'Peach___Bacterial_spot',\n",
       " 'Peach___healthy',\n",
       " 'Pepper,_bell___Bacterial_spot',\n",
       " 'Pepper,_bell___healthy',\n",
       " 'Potato___Early_blight',\n",
       " 'Potato___Late_blight',\n",
       " 'Potato___healthy',\n",
       " 'Raspberry___healthy',\n",
       " 'Soybean___healthy',\n",
       " 'Squash___Powdery_mildew',\n",
       " 'Strawberry___Leaf_scorch',\n",
       " 'Strawberry___healthy',\n",
       " 'Tomato___Bacterial_spot',\n",
       " 'Tomato___Early_blight',\n",
       " 'Tomato___Late_blight',\n",
       " 'Tomato___Leaf_Mold',\n",
       " 'Tomato___Septoria_leaf_spot',\n",
       " 'Tomato___Spider_mites Two-spotted_spider_mite',\n",
       " 'Tomato___Target_Spot',\n",
       " 'Tomato___Tomato_Yellow_Leaf_Curl_Virus',\n",
       " 'Tomato___Tomato_mosaic_virus',\n",
       " 'Tomato___healthy']"
      ]
     },
     "execution_count": 65,
     "metadata": {},
     "output_type": "execute_result"
    }
   ],
   "source": [
    "class_name = validation_set.class_names\n",
    "class_name"
   ]
  },
  {
   "cell_type": "code",
   "execution_count": 66,
   "id": "d98deb2c-85d8-4330-8c87-865fa3a6aaf1",
   "metadata": {},
   "outputs": [
    {
     "name": "stdout",
     "output_type": "stream",
     "text": [
      "Found 17572 files belonging to 38 classes.\n"
     ]
    }
   ],
   "source": [
    "test_set = tf.keras.utils.image_dataset_from_directory(\n",
    "    'valid',\n",
    "    labels=\"inferred\",\n",
    "    label_mode=\"categorical\",\n",
    "    class_names=None,\n",
    "    color_mode=\"rgb\",\n",
    "    batch_size=1,\n",
    "    image_size=(128, 128),\n",
    "    shuffle=False,\n",
    "    seed=None,\n",
    "    validation_split=None,\n",
    "    subset=None,\n",
    "    interpolation=\"bilinear\",\n",
    "    follow_links=False,\n",
    "    crop_to_aspect_ratio=False\n",
    ")"
   ]
  },
  {
   "cell_type": "code",
   "execution_count": 98,
   "id": "e20e3836-8a31-4f2b-812e-7ff847c450f0",
   "metadata": {},
   "outputs": [
    {
     "name": "stdout",
     "output_type": "stream",
     "text": [
      "\u001b[1m17572/17572\u001b[0m \u001b[32m━━━━━━━━━━━━━━━━━━━━\u001b[0m\u001b[37m\u001b[0m \u001b[1m1483s\u001b[0m 84ms/step\n"
     ]
    },
    {
     "data": {
      "text/plain": [
       "(array([[9.9999988e-01, 2.8084249e-10, 5.2776290e-11, ..., 1.6421431e-15,\n",
       "         5.3814077e-13, 1.9970343e-12],\n",
       "        [9.9994087e-01, 2.7446572e-07, 2.8634248e-09, ..., 9.3021334e-11,\n",
       "         8.8564955e-10, 9.5855714e-09],\n",
       "        [1.0000000e+00, 1.3712131e-13, 8.9799308e-15, ..., 4.2061072e-25,\n",
       "         7.6087282e-17, 3.1998414e-15],\n",
       "        ...,\n",
       "        [4.8655296e-10, 5.9318734e-13, 4.8041717e-09, ..., 1.3920819e-10,\n",
       "         2.6414299e-10, 9.9998152e-01],\n",
       "        [1.3686592e-08, 7.6828760e-12, 2.4222784e-08, ..., 1.2012135e-09,\n",
       "         2.5800801e-09, 9.9997950e-01],\n",
       "        [9.2246062e-14, 1.9582426e-13, 8.4463929e-11, ..., 1.9637475e-14,\n",
       "         8.4613670e-12, 9.9999976e-01]], dtype=float32),\n",
       " (17572, 38))"
      ]
     },
     "execution_count": 98,
     "metadata": {},
     "output_type": "execute_result"
    }
   ],
   "source": [
    "y_pred = model.predict(test_set)\n",
    "y_pred,y_pred.shape"
   ]
  },
  {
   "cell_type": "code",
   "execution_count": 77,
   "id": "b04b6b17-1a9a-4c05-a903-2715132d01fd",
   "metadata": {},
   "outputs": [],
   "source": [
    "predicted_categories = tf.argmax(y_pred,axis=1)"
   ]
  },
  {
   "cell_type": "code",
   "execution_count": 78,
   "id": "c688ef67-25dd-4ba2-87a0-7f0a39ee4a0f",
   "metadata": {},
   "outputs": [
    {
     "data": {
      "text/plain": [
       "<tf.Tensor: shape=(17572,), dtype=int64, numpy=array([ 0,  0,  0, ..., 37, 37, 37], dtype=int64)>"
      ]
     },
     "execution_count": 78,
     "metadata": {},
     "output_type": "execute_result"
    }
   ],
   "source": [
    "predicted_categories"
   ]
  },
  {
   "cell_type": "code",
   "execution_count": 80,
   "id": "8f8d7253-390c-4857-8e03-dcdac0e9f392",
   "metadata": {},
   "outputs": [
    {
     "data": {
      "text/plain": [
       "<tf.Tensor: shape=(17572, 38), dtype=float32, numpy=\n",
       "array([[1., 0., 0., ..., 0., 0., 0.],\n",
       "       [1., 0., 0., ..., 0., 0., 0.],\n",
       "       [1., 0., 0., ..., 0., 0., 0.],\n",
       "       ...,\n",
       "       [0., 0., 0., ..., 0., 0., 1.],\n",
       "       [0., 0., 0., ..., 0., 0., 1.],\n",
       "       [0., 0., 0., ..., 0., 0., 1.]], dtype=float32)>"
      ]
     },
     "execution_count": 80,
     "metadata": {},
     "output_type": "execute_result"
    }
   ],
   "source": [
    "true_categories = tf.concat([y for x, y in test_set], axis=0)\n",
    "true_categories"
   ]
  },
  {
   "cell_type": "code",
   "execution_count": 81,
   "id": "cbaf6775-2061-4140-9426-8ccdc199b5f4",
   "metadata": {},
   "outputs": [
    {
     "data": {
      "text/plain": [
       "<tf.Tensor: shape=(17572,), dtype=int64, numpy=array([ 0,  0,  0, ..., 37, 37, 37], dtype=int64)>"
      ]
     },
     "execution_count": 81,
     "metadata": {},
     "output_type": "execute_result"
    }
   ],
   "source": [
    "Y_true = tf.argmax(true_categories, axis=1)\n",
    "Y_true"
   ]
  },
  {
   "cell_type": "code",
   "execution_count": 82,
   "id": "521ed36c-d3d6-4eb5-ab84-5ad096bd4cb1",
   "metadata": {},
   "outputs": [],
   "source": [
    "# predicted_categories"
   ]
  },
  {
   "cell_type": "code",
   "execution_count": null,
   "id": "54d1190b-c972-4ab3-8c6b-d105cb6ae5f0",
   "metadata": {},
   "outputs": [],
   "source": []
  },
  {
   "cell_type": "code",
   "execution_count": 84,
   "id": "26cda6c5-ebc3-403d-9a23-055f5922eb0f",
   "metadata": {},
   "outputs": [],
   "source": [
    "from sklearn.metrics import confusion_matrix,classification_report\n",
    "cm = confusion_matrix(Y_true,predicted_categories)"
   ]
  },
  {
   "cell_type": "code",
   "execution_count": 85,
   "id": "ae553f6a-7c16-468b-a91d-d246a2b0b074",
   "metadata": {},
   "outputs": [
    {
     "name": "stdout",
     "output_type": "stream",
     "text": [
      "                                                    precision    recall  f1-score   support\n",
      "\n",
      "                                Apple___Apple_scab       0.92      0.96      0.94       504\n",
      "                                 Apple___Black_rot       1.00      0.97      0.99       497\n",
      "                          Apple___Cedar_apple_rust       0.99      0.98      0.99       440\n",
      "                                   Apple___healthy       0.95      0.93      0.94       502\n",
      "                               Blueberry___healthy       0.94      0.98      0.96       454\n",
      "          Cherry_(including_sour)___Powdery_mildew       1.00      0.95      0.97       421\n",
      "                 Cherry_(including_sour)___healthy       0.97      0.99      0.98       456\n",
      "Corn_(maize)___Cercospora_leaf_spot Gray_leaf_spot       0.94      0.95      0.95       410\n",
      "                       Corn_(maize)___Common_rust_       0.98      1.00      0.99       477\n",
      "               Corn_(maize)___Northern_Leaf_Blight       0.96      0.96      0.96       477\n",
      "                            Corn_(maize)___healthy       1.00      0.97      0.99       465\n",
      "                                 Grape___Black_rot       0.96      0.98      0.97       472\n",
      "                      Grape___Esca_(Black_Measles)       0.99      0.99      0.99       480\n",
      "        Grape___Leaf_blight_(Isariopsis_Leaf_Spot)       1.00      0.97      0.98       430\n",
      "                                   Grape___healthy       1.00      0.94      0.97       423\n",
      "          Orange___Haunglongbing_(Citrus_greening)       0.94      1.00      0.97       503\n",
      "                            Peach___Bacterial_spot       0.97      0.96      0.96       459\n",
      "                                   Peach___healthy       0.96      0.99      0.98       432\n",
      "                     Pepper,_bell___Bacterial_spot       0.98      0.92      0.95       478\n",
      "                            Pepper,_bell___healthy       0.97      0.94      0.96       497\n",
      "                             Potato___Early_blight       0.98      0.99      0.99       485\n",
      "                              Potato___Late_blight       0.89      0.98      0.93       485\n",
      "                                  Potato___healthy       0.92      0.98      0.95       456\n",
      "                               Raspberry___healthy       1.00      0.87      0.93       445\n",
      "                                 Soybean___healthy       1.00      0.95      0.97       505\n",
      "                           Squash___Powdery_mildew       0.98      0.98      0.98       434\n",
      "                          Strawberry___Leaf_scorch       0.98      0.99      0.98       444\n",
      "                              Strawberry___healthy       0.98      0.98      0.98       456\n",
      "                           Tomato___Bacterial_spot       0.96      0.96      0.96       425\n",
      "                             Tomato___Early_blight       0.76      0.99      0.86       480\n",
      "                              Tomato___Late_blight       0.97      0.85      0.91       463\n",
      "                                Tomato___Leaf_Mold       0.90      0.98      0.94       470\n",
      "                       Tomato___Septoria_leaf_spot       0.97      0.83      0.89       436\n",
      "     Tomato___Spider_mites Two-spotted_spider_mite       0.98      0.88      0.93       435\n",
      "                              Tomato___Target_Spot       0.86      0.88      0.87       457\n",
      "            Tomato___Tomato_Yellow_Leaf_Curl_Virus       1.00      0.97      0.98       490\n",
      "                      Tomato___Tomato_mosaic_virus       0.98      0.97      0.97       448\n",
      "                                  Tomato___healthy       0.99      0.99      0.99       481\n",
      "\n",
      "                                          accuracy                           0.96     17572\n",
      "                                         macro avg       0.96      0.96      0.96     17572\n",
      "                                      weighted avg       0.96      0.96      0.96     17572\n",
      "\n"
     ]
    }
   ],
   "source": [
    "# Precision Recall Fscore\n",
    "print(classification_report(Y_true,predicted_categories,target_names=class_name))"
   ]
  },
  {
   "cell_type": "code",
   "execution_count": 89,
   "id": "2cffbfe6-5591-4f79-ba6a-aa6525972dc4",
   "metadata": {},
   "outputs": [
    {
     "data": {
      "text/plain": [
       "array([[484,   1,   0, ...,   0,   0,   0],\n",
       "       [  2, 484,   0, ...,   0,   0,   0],\n",
       "       [  0,   0, 433, ...,   0,   0,   1],\n",
       "       ...,\n",
       "       [  0,   0,   0, ..., 474,   0,   0],\n",
       "       [  5,   0,   0, ...,   0, 435,   0],\n",
       "       [  1,   0,   0, ...,   0,   0, 476]], dtype=int64)"
      ]
     },
     "execution_count": 89,
     "metadata": {},
     "output_type": "execute_result"
    }
   ],
   "source": [
    "cm = confusion_matrix(Y_true,predicted_categories)\n",
    "cm"
   ]
  },
  {
   "cell_type": "markdown",
   "id": "5af8a26a-9882-4789-97f1-1a73df2a8701",
   "metadata": {},
   "source": [
    "### Confusion Matrix Visualization"
   ]
  },
  {
   "cell_type": "code",
   "execution_count": 99,
   "id": "d1d7e83c-f9a4-4c5d-bd69-67d893e70c24",
   "metadata": {},
   "outputs": [
    {
     "data": {
      "text/plain": [
       "<function matplotlib.pyplot.show(close=None, block=None)>"
      ]
     },
     "execution_count": 99,
     "metadata": {},
     "output_type": "execute_result"
    },
    {
     "data": {
      "image/png": "[encoded data removed]",
      "text/plain": [
       "<Figure size 4000x4000 with 2 Axes>"
      ]
     },
     "metadata": {},
     "output_type": "display_data"
    }
   ],
   "source": [
    "plt.figure(figsize=(40,40))\n",
    "sns.heatmap(cm,annot=True,annot_kws={'size':10})\n",
    "\n",
    "plt.xlabel('Predicted Class',fontsize = 20)\n",
    "plt.ylabel('Actual Class',fontsize = 20)\n",
    "plt.title('Plant Disease Prediction Confusion Matrix',fontsize = 25)\n",
    "plt.show"
   ]
  }
 ],
 "metadata": {
  "kernelspec": {
   "display_name": "Python 3 (ipykernel)",
   "language": "python",
   "name": "python3"
  },
  "language_info": {
   "codemirror_mode": {
    "name": "ipython",
    "version": 3
   },
   "file_extension": ".py",
   "mimetype": "text/x-python",
   "name": "python",
   "nbconvert_exporter": "python",
   "pygments_lexer": "ipython3",
   "version": "3.11.7"
  }
 },
 "nbformat": 4,
 "nbformat_minor": 5
}
